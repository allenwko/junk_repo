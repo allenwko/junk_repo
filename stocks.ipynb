{
 "cells": [
  {
   "cell_type": "code",
   "execution_count": 1,
   "metadata": {
    "collapsed": false
   },
   "outputs": [],
   "source": [
    "from pandas_datareader import data as pddr\n",
    "import pandas as pd\n",
    "import datetime\n",
    "import requests\n",
    "from bs4 import BeautifulSoup\n",
    "import numpy as np\n",
    "\n",
    "WIKI_URL = \"https://en.wikipedia.org/wiki/List_of_S%26P_500_companies\"\n",
    "\n",
    "req = requests.get(WIKI_URL)\n",
    "soup = BeautifulSoup(req.content, 'lxml')\n",
    "table_classes = {\"class\": [\"sortable\", \"plainrowheaders\"]}\n",
    "wikitables = soup.findAll(\"table\", table_classes)\n",
    "\n",
    "rows = wikitables[0].findAll('tr')\n",
    "headers = [i.text for i in rows[0].findAll('th')]\n",
    "table_data = map(lambda x:[i.text for i in x.findAll('td')], rows[1:])\n",
    "sp = pd.DataFrame(table_data, columns = headers)\n",
    "sp['Ticker symbol'] = sp['Ticker symbol'].astype(str)"
   ]
  },
  {
   "cell_type": "code",
   "execution_count": 2,
   "metadata": {
    "collapsed": false
   },
   "outputs": [
    {
     "name": "stderr",
     "output_type": "stream",
     "text": [
      "/Users/allen/anaconda2/lib/python2.7/site-packages/pandas_datareader/yahoo/daily.py:136: SymbolWarning: Failed to read symbol: 'BRK.B', replacing with NaN.\n",
      "  warnings.warn(msg.format(sym), SymbolWarning)\n",
      "/Users/allen/anaconda2/lib/python2.7/site-packages/pandas_datareader/yahoo/daily.py:136: SymbolWarning: Failed to read symbol: 'BF.B', replacing with NaN.\n",
      "  warnings.warn(msg.format(sym), SymbolWarning)\n"
     ]
    }
   ],
   "source": [
    "dfs = np.array_split(sp, 3)\n",
    "raw_data = []\n",
    "for df in dfs:\n",
    "    # Define the instruments to download. We would like to see Apple, Microsoft and the S&P500 index.\n",
    "    tickers = list(df['Ticker symbol'].values)\n",
    "\n",
    "    # Define which online source one should use\n",
    "    data_source = 'yahoo'\n",
    "\n",
    "    # We would like all available data from 01/01/2000 until 12/31/2016.\n",
    "    # Google ignores start/end dates, gives you a year from end data\n",
    "    start_date = '2017-9-20'\n",
    "    end_date = '2017-9-22'\n",
    "\n",
    "    # User pandas_reader.data.DataReader to load the desired data. As simple as that.\n",
    "    panel_data = pddr.DataReader(tickers, data_source, start_date, end_date)\n",
    "    raw_data.append(panel_data)"
   ]
  },
  {
   "cell_type": "code",
   "execution_count": 20,
   "metadata": {
    "collapsed": false
   },
   "outputs": [],
   "source": [
    "data = pd.concat(raw_data, axis=2)"
   ]
  },
  {
   "cell_type": "code",
   "execution_count": 21,
   "metadata": {
    "collapsed": false
   },
   "outputs": [],
   "source": [
    "today_str = datetime.date.today().strftime('%Y-%m-%d')\n",
    "\n",
    "today_close = data.loc['Close'][today_str]\n",
    "yst_close = data.loc['Close'].shift(-1)[today_str]\n",
    "eod_delta = (today_close - yst_close)/yst_close * 100"
   ]
  },
  {
   "cell_type": "code",
   "execution_count": 26,
   "metadata": {
    "collapsed": false,
    "scrolled": true
   },
   "outputs": [
    {
     "data": {
      "text/plain": [
       "DVA     -6.15\n",
       "INCY    -3.65\n",
       "SCG     -3.43\n",
       "WRK     -3.37\n",
       "MHK     -3.32\n",
       "MAT     -3.20\n",
       "HCP     -2.45\n",
       "TIF     -2.24\n",
       "VTR     -2.19\n",
       "PKG     -2.18\n",
       "ARNC    -2.16\n",
       "IP      -2.16\n",
       "MGM     -2.06\n",
       "CF      -2.03\n",
       "KHC     -1.89\n",
       "HCN     -1.72\n",
       "SBAC    -1.65\n",
       "NI      -1.65\n",
       "ETR     -1.55\n",
       "DLR     -1.48\n",
       "TDG     -1.46\n",
       "FTI     -1.40\n",
       "SJM     -1.26\n",
       "CMS     -1.25\n",
       "XEL     -1.25\n",
       "AEP     -1.23\n",
       "ES      -1.19\n",
       "AMT     -1.16\n",
       "CPB     -1.16\n",
       "GGP     -1.16\n",
       "         ... \n",
       "LEG      1.78\n",
       "GPS      1.79\n",
       "EXPE     1.85\n",
       "GPC      1.89\n",
       "IVZ      1.91\n",
       "VZ       1.96\n",
       "WYN      1.98\n",
       "HES      1.99\n",
       "SYF      2.01\n",
       "AAP      2.04\n",
       "CSCO     2.05\n",
       "HRB      2.06\n",
       "IPG      2.06\n",
       "ABT      2.10\n",
       "KSS      2.51\n",
       "ALK      2.52\n",
       "TXN      2.58\n",
       "LRCX     2.58\n",
       "STX      2.60\n",
       "PAYX     2.68\n",
       "COO      3.17\n",
       "HPE      3.41\n",
       "ORLY     3.62\n",
       "AZO      3.71\n",
       "NAVI     5.35\n",
       "EFX      6.91\n",
       "LB       7.51\n",
       "KMX      7.77\n",
       "BF.B      NaN\n",
       "BRK.B     NaN\n",
       "Name: 2017-09-22 00:00:00, dtype: float64"
      ]
     },
     "execution_count": 26,
     "metadata": {},
     "output_type": "execute_result"
    }
   ],
   "source": [
    "eod_delta.loc[today_str].sort_values().round(2)"
   ]
  },
  {
   "cell_type": "markdown",
   "metadata": {},
   "source": [
    "to do:\n",
    "- choose a scope of eod data to analyze\n",
    "- analyze to pick a cutoff - eye towards highly volatile swings\n",
    "- overall: how to pick emotionally driven quick downward swings that come back up within 6 months? ie. first solar\n",
    "    - how fast was the first solar downward tumble?"
   ]
  },
  {
   "cell_type": "code",
   "execution_count": null,
   "metadata": {
    "collapsed": true
   },
   "outputs": [],
   "source": []
  }
 ],
 "metadata": {
  "kernelspec": {
   "display_name": "Python 2",
   "language": "python",
   "name": "python2"
  },
  "language_info": {
   "codemirror_mode": {
    "name": "ipython",
    "version": 2
   },
   "file_extension": ".py",
   "mimetype": "text/x-python",
   "name": "python",
   "nbconvert_exporter": "python",
   "pygments_lexer": "ipython2",
   "version": "2.7.13"
  }
 },
 "nbformat": 4,
 "nbformat_minor": 2
}
